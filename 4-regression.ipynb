{
 "cells": [
  {
   "cell_type": "markdown",
   "metadata": {
    "collapsed": false,
    "pycharm": {
     "name": "#%% md\n"
    }
   },
   "source": [
    "# Regression \n",
    "We'll try to follow the following model to make a regression:<br>\n",
    "$ price = f (points, year, province, region_1, variety, winery) $"
   ]
  },
  {
   "cell_type": "code",
   "execution_count": 60,
   "metadata": {
    "collapsed": false,
    "pycharm": {
     "name": "#%%\n"
    }
   },
   "outputs": [],
   "source": [
    "import matplotlib.pyplot as plt\n",
    "import numpy as np\n",
    "import pandas as pd\n",
    "import seaborn as sns\n",
    "\n",
    "from sklearn.model_selection import train_test_split\n",
    "from sklearn.utils import shuffle\n",
    "from sklearn.preprocessing import RobustScaler\n",
    "from sklearn.linear_model import LinearRegression\n",
    "from sklearn.metrics import *\n",
    "\n",
    "import xgboost as xgb\n",
    "\n",
    "from tensorflow.keras import layers\n",
    "from tensorflow.keras.callbacks import EarlyStopping\n",
    "from tensorflow.keras.models import Sequential\n",
    "from tensorflow import keras\n",
    "\n",
    "from imblearn.over_sampling import *"
   ]
  },
  {
   "cell_type": "code",
   "execution_count": 15,
   "metadata": {
    "collapsed": false,
    "pycharm": {
     "name": "#%%\n"
    }
   },
   "outputs": [
    {
     "data": {
      "text/html": [
       "<div>\n",
       "<style scoped>\n",
       "    .dataframe tbody tr th:only-of-type {\n",
       "        vertical-align: middle;\n",
       "    }\n",
       "\n",
       "    .dataframe tbody tr th {\n",
       "        vertical-align: top;\n",
       "    }\n",
       "\n",
       "    .dataframe thead th {\n",
       "        text-align: right;\n",
       "    }\n",
       "</style>\n",
       "<table border=\"1\" class=\"dataframe\">\n",
       "  <thead>\n",
       "    <tr style=\"text-align: right;\">\n",
       "      <th></th>\n",
       "      <th>country</th>\n",
       "      <th>description</th>\n",
       "      <th>designation</th>\n",
       "      <th>points</th>\n",
       "      <th>price</th>\n",
       "      <th>province</th>\n",
       "      <th>region_1</th>\n",
       "      <th>region_2</th>\n",
       "      <th>taster_name</th>\n",
       "      <th>taster_twitter_handle</th>\n",
       "      <th>title</th>\n",
       "      <th>variety</th>\n",
       "      <th>winery</th>\n",
       "    </tr>\n",
       "  </thead>\n",
       "  <tbody>\n",
       "    <tr>\n",
       "      <th>33587</th>\n",
       "      <td>Israel</td>\n",
       "      <td>Fresh but concentrated all at once with rich a...</td>\n",
       "      <td>Sha'al Single Vineyard Late Harvest Kosher - 3...</td>\n",
       "      <td>88</td>\n",
       "      <td>24.0</td>\n",
       "      <td>Galilee</td>\n",
       "      <td>NaN</td>\n",
       "      <td>NaN</td>\n",
       "      <td>Lauren Buzzeo</td>\n",
       "      <td>@laurbuzz</td>\n",
       "      <td>Carmel 2006 Sha'al Single Vineyard Late Harves...</td>\n",
       "      <td>Gewürztraminer</td>\n",
       "      <td>Carmel</td>\n",
       "    </tr>\n",
       "    <tr>\n",
       "      <th>77912</th>\n",
       "      <td>US</td>\n",
       "      <td>Aromas and flavors of fig, earth and mushroom ...</td>\n",
       "      <td>Cloud Buster</td>\n",
       "      <td>85</td>\n",
       "      <td>29.0</td>\n",
       "      <td>California</td>\n",
       "      <td>Russian River Valley</td>\n",
       "      <td>Sonoma</td>\n",
       "      <td>Virginie Boone</td>\n",
       "      <td>@vboone</td>\n",
       "      <td>Manzanita Creek 2013 Cloud Buster Zinfandel (R...</td>\n",
       "      <td>Zinfandel</td>\n",
       "      <td>Manzanita Creek</td>\n",
       "    </tr>\n",
       "    <tr>\n",
       "      <th>67593</th>\n",
       "      <td>US</td>\n",
       "      <td>Light in color and weight, this is a nicely co...</td>\n",
       "      <td>Hopkins Vineyard</td>\n",
       "      <td>88</td>\n",
       "      <td>20.0</td>\n",
       "      <td>California</td>\n",
       "      <td>Russian River Valley</td>\n",
       "      <td>Sonoma</td>\n",
       "      <td>Virginie Boone</td>\n",
       "      <td>@vboone</td>\n",
       "      <td>River Road 2012 Hopkins Vineyard Pinot Meunier...</td>\n",
       "      <td>Pinot Meunier</td>\n",
       "      <td>River Road</td>\n",
       "    </tr>\n",
       "    <tr>\n",
       "      <th>112040</th>\n",
       "      <td>US</td>\n",
       "      <td>Charred black plum, cola and licorice aromas s...</td>\n",
       "      <td>Rodney's Vineyard</td>\n",
       "      <td>89</td>\n",
       "      <td>35.0</td>\n",
       "      <td>California</td>\n",
       "      <td>Santa Barbara County</td>\n",
       "      <td>Central Coast</td>\n",
       "      <td>Matt Kettmann</td>\n",
       "      <td>@mattkettmann</td>\n",
       "      <td>Epiphany 2014 Rodney's Vineyard Petite Sirah (...</td>\n",
       "      <td>Petite Sirah</td>\n",
       "      <td>Epiphany</td>\n",
       "    </tr>\n",
       "    <tr>\n",
       "      <th>85299</th>\n",
       "      <td>Italy</td>\n",
       "      <td>Pipe tobacco, exotic spice, mature black-skinn...</td>\n",
       "      <td>Lilium Est Riserva</td>\n",
       "      <td>90</td>\n",
       "      <td>NaN</td>\n",
       "      <td>Veneto</td>\n",
       "      <td>Amarone della Valpolicella</td>\n",
       "      <td>NaN</td>\n",
       "      <td>Kerin O’Keefe</td>\n",
       "      <td>@kerinokeefe</td>\n",
       "      <td>Tenuta Sant'Antonio 2007 Lilium Est Riserva  (...</td>\n",
       "      <td>Red Blend</td>\n",
       "      <td>Tenuta Sant'Antonio</td>\n",
       "    </tr>\n",
       "  </tbody>\n",
       "</table>\n",
       "</div>"
      ],
      "text/plain": [
       "       country                                        description  \\\n",
       "33587   Israel  Fresh but concentrated all at once with rich a...   \n",
       "77912       US  Aromas and flavors of fig, earth and mushroom ...   \n",
       "67593       US  Light in color and weight, this is a nicely co...   \n",
       "112040      US  Charred black plum, cola and licorice aromas s...   \n",
       "85299    Italy  Pipe tobacco, exotic spice, mature black-skinn...   \n",
       "\n",
       "                                              designation  points  price  \\\n",
       "33587   Sha'al Single Vineyard Late Harvest Kosher - 3...      88   24.0   \n",
       "77912                                        Cloud Buster      85   29.0   \n",
       "67593                                    Hopkins Vineyard      88   20.0   \n",
       "112040                                  Rodney's Vineyard      89   35.0   \n",
       "85299                                  Lilium Est Riserva      90    NaN   \n",
       "\n",
       "          province                    region_1       region_2     taster_name  \\\n",
       "33587      Galilee                         NaN            NaN   Lauren Buzzeo   \n",
       "77912   California        Russian River Valley         Sonoma  Virginie Boone   \n",
       "67593   California        Russian River Valley         Sonoma  Virginie Boone   \n",
       "112040  California        Santa Barbara County  Central Coast   Matt Kettmann   \n",
       "85299       Veneto  Amarone della Valpolicella            NaN   Kerin O’Keefe   \n",
       "\n",
       "       taster_twitter_handle  \\\n",
       "33587              @laurbuzz   \n",
       "77912                @vboone   \n",
       "67593                @vboone   \n",
       "112040         @mattkettmann   \n",
       "85299           @kerinokeefe   \n",
       "\n",
       "                                                    title         variety  \\\n",
       "33587   Carmel 2006 Sha'al Single Vineyard Late Harves...  Gewürztraminer   \n",
       "77912   Manzanita Creek 2013 Cloud Buster Zinfandel (R...       Zinfandel   \n",
       "67593   River Road 2012 Hopkins Vineyard Pinot Meunier...   Pinot Meunier   \n",
       "112040  Epiphany 2014 Rodney's Vineyard Petite Sirah (...    Petite Sirah   \n",
       "85299   Tenuta Sant'Antonio 2007 Lilium Est Riserva  (...       Red Blend   \n",
       "\n",
       "                     winery  \n",
       "33587                Carmel  \n",
       "77912       Manzanita Creek  \n",
       "67593            River Road  \n",
       "112040             Epiphany  \n",
       "85299   Tenuta Sant'Antonio  "
      ]
     },
     "execution_count": 15,
     "metadata": {},
     "output_type": "execute_result"
    }
   ],
   "source": [
    "df = pd.read_csv('data/winedata.csv',index_col='index')\n",
    "df = shuffle(df)\n",
    "df.head()"
   ]
  },
  {
   "cell_type": "code",
   "execution_count": 16,
   "metadata": {
    "collapsed": false,
    "pycharm": {
     "name": "#%%\n"
    }
   },
   "outputs": [
    {
     "name": "stdout",
     "output_type": "stream",
     "text": [
      "<class 'pandas.core.frame.DataFrame'>\n",
      "Int64Index: 129971 entries, 33587 to 104801\n",
      "Data columns (total 13 columns):\n",
      " #   Column                 Non-Null Count   Dtype  \n",
      "---  ------                 --------------   -----  \n",
      " 0   country                129908 non-null  object \n",
      " 1   description            129971 non-null  object \n",
      " 2   designation            92506 non-null   object \n",
      " 3   points                 129971 non-null  int64  \n",
      " 4   price                  120975 non-null  float64\n",
      " 5   province               129908 non-null  object \n",
      " 6   region_1               108724 non-null  object \n",
      " 7   region_2               50511 non-null   object \n",
      " 8   taster_name            103727 non-null  object \n",
      " 9   taster_twitter_handle  98758 non-null   object \n",
      " 10  title                  129971 non-null  object \n",
      " 11  variety                129970 non-null  object \n",
      " 12  winery                 129971 non-null  object \n",
      "dtypes: float64(1), int64(1), object(11)\n",
      "memory usage: 13.9+ MB\n"
     ]
    }
   ],
   "source": [
    "df.info()"
   ]
  },
  {
   "cell_type": "code",
   "execution_count": 17,
   "metadata": {
    "collapsed": false,
    "pycharm": {
     "name": "#%%\n"
    }
   },
   "outputs": [
    {
     "data": {
      "text/plain": [
       "<AxesSubplot:>"
      ]
     },
     "execution_count": 17,
     "metadata": {},
     "output_type": "execute_result"
    },
    {
     "data": {
      "image/png": "[encoded data removed]",
      "text/plain": [
       "<Figure size 720x360 with 1 Axes>"
      ]
     },
     "metadata": {
      "needs_background": "light"
     },
     "output_type": "display_data"
    }
   ],
   "source": [
    "#Keep the country with atleast 500 wines\n",
    "\n",
    "df = df[df['country'].isin(df['country'].value_counts()[df['country'].value_counts()>500].index)]\n",
    "\n",
    "df_country = df['country'].value_counts()\n",
    "df_country.plot(kind='bar',figsize=(10,5),cmap='Pastel1')"
   ]
  },
  {
   "cell_type": "code",
   "execution_count": 18,
   "metadata": {
    "collapsed": false,
    "pycharm": {
     "name": "#%%\n"
    }
   },
   "outputs": [
    {
     "data": {
      "text/plain": [
       "count    123172.000000\n",
       "mean       2010.688152\n",
       "std           3.571744\n",
       "min        1973.000000\n",
       "25%        2009.000000\n",
       "50%        2011.000000\n",
       "75%        2013.000000\n",
       "max        2017.000000\n",
       "Name: year, dtype: float64"
      ]
     },
     "execution_count": 18,
     "metadata": {},
     "output_type": "execute_result"
    }
   ],
   "source": [
    "#Extract the year from the title column\n",
    "df['year'] = df['title'].str.extract('(\\d{4})',expand=False)\n",
    "df.dropna(subset=['year'],inplace=True)\n",
    "df['year'] = df['year'].astype(int)\n",
    "\n",
    "#keep only the years between 1970 and 2022\n",
    "df = df[df['year']>1970]\n",
    "df = df[df['year']<2022]\n",
    "\n",
    "df['year'].describe()"
   ]
  },
  {
   "cell_type": "code",
   "execution_count": 19,
   "metadata": {
    "collapsed": false,
    "pycharm": {
     "name": "#%%\n"
    }
   },
   "outputs": [
    {
     "name": "stdout",
     "output_type": "stream",
     "text": [
      "<class 'pandas.core.frame.DataFrame'>\n",
      "Int64Index: 97308 entries, 77912 to 104801\n",
      "Data columns (total 7 columns):\n",
      " #   Column    Non-Null Count  Dtype  \n",
      "---  ------    --------------  -----  \n",
      " 0   points    97308 non-null  int64  \n",
      " 1   price     97308 non-null  float64\n",
      " 2   province  97308 non-null  object \n",
      " 3   region_1  97308 non-null  object \n",
      " 4   variety   97308 non-null  object \n",
      " 5   winery    97308 non-null  object \n",
      " 6   year      97308 non-null  int64  \n",
      "dtypes: float64(1), int64(2), object(4)\n",
      "memory usage: 5.9+ MB\n"
     ]
    }
   ],
   "source": [
    "#Drop unecessary columns\n",
    "df.drop(['description','designation','taster_twitter_handle','taster_name','region_2','title','country'],axis=1, inplace=True)\n",
    "df.dropna(inplace=True)\n",
    "df.info()"
   ]
  },
  {
   "cell_type": "code",
   "execution_count": 39,
   "metadata": {
    "collapsed": false,
    "pycharm": {
     "name": "#%%\n"
    }
   },
   "outputs": [
    {
     "data": {
      "text/html": [
       "<div>\n",
       "<style scoped>\n",
       "    .dataframe tbody tr th:only-of-type {\n",
       "        vertical-align: middle;\n",
       "    }\n",
       "\n",
       "    .dataframe tbody tr th {\n",
       "        vertical-align: top;\n",
       "    }\n",
       "\n",
       "    .dataframe thead th {\n",
       "        text-align: right;\n",
       "    }\n",
       "</style>\n",
       "<table border=\"1\" class=\"dataframe\">\n",
       "  <thead>\n",
       "    <tr style=\"text-align: right;\">\n",
       "      <th></th>\n",
       "      <th>points</th>\n",
       "      <th>price</th>\n",
       "      <th>province</th>\n",
       "      <th>region_1</th>\n",
       "      <th>variety</th>\n",
       "      <th>winery</th>\n",
       "      <th>year</th>\n",
       "    </tr>\n",
       "  </thead>\n",
       "  <tbody>\n",
       "    <tr>\n",
       "      <th>77912</th>\n",
       "      <td>85</td>\n",
       "      <td>29.0</td>\n",
       "      <td>0</td>\n",
       "      <td>0</td>\n",
       "      <td>0</td>\n",
       "      <td>0</td>\n",
       "      <td>2013</td>\n",
       "    </tr>\n",
       "    <tr>\n",
       "      <th>67593</th>\n",
       "      <td>88</td>\n",
       "      <td>20.0</td>\n",
       "      <td>0</td>\n",
       "      <td>0</td>\n",
       "      <td>1</td>\n",
       "      <td>1</td>\n",
       "      <td>2012</td>\n",
       "    </tr>\n",
       "    <tr>\n",
       "      <th>112040</th>\n",
       "      <td>89</td>\n",
       "      <td>35.0</td>\n",
       "      <td>0</td>\n",
       "      <td>1</td>\n",
       "      <td>2</td>\n",
       "      <td>2</td>\n",
       "      <td>2014</td>\n",
       "    </tr>\n",
       "    <tr>\n",
       "      <th>115267</th>\n",
       "      <td>90</td>\n",
       "      <td>125.0</td>\n",
       "      <td>0</td>\n",
       "      <td>2</td>\n",
       "      <td>3</td>\n",
       "      <td>3</td>\n",
       "      <td>2014</td>\n",
       "    </tr>\n",
       "    <tr>\n",
       "      <th>57526</th>\n",
       "      <td>88</td>\n",
       "      <td>18.0</td>\n",
       "      <td>0</td>\n",
       "      <td>3</td>\n",
       "      <td>4</td>\n",
       "      <td>4</td>\n",
       "      <td>2013</td>\n",
       "    </tr>\n",
       "    <tr>\n",
       "      <th>...</th>\n",
       "      <td>...</td>\n",
       "      <td>...</td>\n",
       "      <td>...</td>\n",
       "      <td>...</td>\n",
       "      <td>...</td>\n",
       "      <td>...</td>\n",
       "      <td>...</td>\n",
       "    </tr>\n",
       "    <tr>\n",
       "      <th>25914</th>\n",
       "      <td>87</td>\n",
       "      <td>45.0</td>\n",
       "      <td>13</td>\n",
       "      <td>30</td>\n",
       "      <td>19</td>\n",
       "      <td>12142</td>\n",
       "      <td>2012</td>\n",
       "    </tr>\n",
       "    <tr>\n",
       "      <th>49984</th>\n",
       "      <td>90</td>\n",
       "      <td>18.0</td>\n",
       "      <td>1</td>\n",
       "      <td>26</td>\n",
       "      <td>24</td>\n",
       "      <td>379</td>\n",
       "      <td>2011</td>\n",
       "    </tr>\n",
       "    <tr>\n",
       "      <th>80540</th>\n",
       "      <td>92</td>\n",
       "      <td>36.0</td>\n",
       "      <td>0</td>\n",
       "      <td>112</td>\n",
       "      <td>11</td>\n",
       "      <td>2778</td>\n",
       "      <td>2008</td>\n",
       "    </tr>\n",
       "    <tr>\n",
       "      <th>94782</th>\n",
       "      <td>93</td>\n",
       "      <td>75.0</td>\n",
       "      <td>1</td>\n",
       "      <td>14</td>\n",
       "      <td>9</td>\n",
       "      <td>1745</td>\n",
       "      <td>2010</td>\n",
       "    </tr>\n",
       "    <tr>\n",
       "      <th>104801</th>\n",
       "      <td>93</td>\n",
       "      <td>60.0</td>\n",
       "      <td>0</td>\n",
       "      <td>69</td>\n",
       "      <td>18</td>\n",
       "      <td>188</td>\n",
       "      <td>2005</td>\n",
       "    </tr>\n",
       "  </tbody>\n",
       "</table>\n",
       "<p>97308 rows × 7 columns</p>\n",
       "</div>"
      ],
      "text/plain": [
       "        points  price  province  region_1  variety  winery  year\n",
       "77912       85   29.0         0         0        0       0  2013\n",
       "67593       88   20.0         0         0        1       1  2012\n",
       "112040      89   35.0         0         1        2       2  2014\n",
       "115267      90  125.0         0         2        3       3  2014\n",
       "57526       88   18.0         0         3        4       4  2013\n",
       "...        ...    ...       ...       ...      ...     ...   ...\n",
       "25914       87   45.0        13        30       19   12142  2012\n",
       "49984       90   18.0         1        26       24     379  2011\n",
       "80540       92   36.0         0       112       11    2778  2008\n",
       "94782       93   75.0         1        14        9    1745  2010\n",
       "104801      93   60.0         0        69       18     188  2005\n",
       "\n",
       "[97308 rows x 7 columns]"
      ]
     },
     "execution_count": 39,
     "metadata": {},
     "output_type": "execute_result"
    }
   ],
   "source": [
    "#tranformation in number for categorical features\n",
    "\n",
    "codes_prov, uniques = pd.factorize(df['province'])\n",
    "df['province'] = codes_prov\n",
    "\n",
    "codes_reg1, uniques = pd.factorize(df['region_1'])\n",
    "df['region_1'] = codes_reg1\n",
    "\n",
    "codes_var, uniques = pd.factorize(df['variety'])\n",
    "df['variety'] = codes_var\n",
    "\n",
    "codes_win, uniques = pd.factorize(df['winery'])\n",
    "df['winery'] = codes_win\n",
    "\n",
    "df\n"
   ]
  },
  {
   "cell_type": "markdown",
   "metadata": {},
   "source": [
    "### correct imbalance of the dataset & split in training and testing sets"
   ]
  },
  {
   "cell_type": "code",
   "execution_count": 48,
   "metadata": {
    "collapsed": false,
    "pycharm": {
     "name": "#%%\n"
    }
   },
   "outputs": [
    {
     "name": "stdout",
     "output_type": "stream",
     "text": [
      "(1938209, 6)\n"
     ]
    }
   ],
   "source": [
    "X = df.drop('price',axis=1).values\n",
    "y = df['price'].values\n",
    "\n",
    "transformer = RandomOverSampler()\n",
    "\n",
    "X, y = transformer.fit_resample(X, y)\n",
    "\n",
    "scaler = RobustScaler()\n",
    "\n",
    "X = scaler.fit_transform(X)\n",
    "\n",
    "print(np.shape(X))\n",
    "\n",
    "X_train, X_test, y_train, y_test = train_test_split(X, y, test_size=0.33, random_state=42)"
   ]
  },
  {
   "cell_type": "markdown",
   "metadata": {},
   "source": [
    "## XGBoost"
   ]
  },
  {
   "cell_type": "code",
   "execution_count": 56,
   "metadata": {
    "collapsed": false,
    "pycharm": {
     "name": "#%%\n"
    }
   },
   "outputs": [
    {
     "data": {
      "text/plain": [
       "XGBRegressor(base_score=0.5, booster='gbtree', colsample_bylevel=1,\n",
       "             colsample_bynode=1, colsample_bytree=1, enable_categorical=False,\n",
       "             gamma=0, gpu_id=-1, importance_type=None,\n",
       "             interaction_constraints='', learning_rate=0.300000012,\n",
       "             max_delta_step=0, max_depth=6, min_child_weight=1, missing=nan,\n",
       "             monotone_constraints='()', n_estimators=100, n_jobs=12,\n",
       "             num_parallel_tree=1, predictor='auto', random_state=0, reg_alpha=0,\n",
       "             reg_lambda=1, scale_pos_weight=1, subsample=1, tree_method='exact',\n",
       "             validate_parameters=1, verbosity=None)"
      ]
     },
     "execution_count": 56,
     "metadata": {},
     "output_type": "execute_result"
    }
   ],
   "source": [
    "model_xgb = xgb.XGBRegressor()\n",
    "\n",
    "model_xgb.fit(X_train, y_train, verbose=1)"
   ]
  },
  {
   "cell_type": "code",
   "execution_count": 58,
   "metadata": {},
   "outputs": [
    {
     "name": "stdout",
     "output_type": "stream",
     "text": [
      "RMSE: 31.794478655072417\n",
      "R2: 0.9913631913247789\n"
     ]
    }
   ],
   "source": [
    "pred_xgb = model_xgb.predict(X_test)\n",
    "\n",
    "print('RMSE:',np.sqrt(mean_squared_error(y_test, pred_xgb)))\n",
    "print('R2:',explained_variance_score(y_test, pred_xgb))"
   ]
  },
  {
   "cell_type": "code",
   "execution_count": 62,
   "metadata": {
    "collapsed": false,
    "pycharm": {
     "name": "#%%\n"
    }
   },
   "outputs": [],
   "source": [
    "#DNN with tensorflow\n",
    "\n",
    "\n",
    "ann = Sequential([\n",
    "    layers.Dense(6, activation='relu'),\n",
    "    layers.Dense(128, activation='relu'),\n",
    "    layers.Dense(128, activation='relu'),\n",
    "    layers.Dense(128, activation='relu'),\n",
    "    layers.Dense(1)\n",
    "])\n",
    "\n",
    "ann.compile(optimizer='adam', loss='mse')"
   ]
  },
  {
   "cell_type": "code",
   "execution_count": 66,
   "metadata": {
    "collapsed": false,
    "pycharm": {
     "name": "#%%\n"
    }
   },
   "outputs": [
    {
     "name": "stdout",
     "output_type": "stream",
     "text": [
      "Epoch 1/200\n",
      "10473/10473 [==============================] - 21s 2ms/step - loss: 7413.5903 - mse: 7413.5903 - val_loss: 5945.9810 - val_mse: 5945.9810\n",
      "Epoch 2/200\n",
      "10473/10473 [==============================] - 21s 2ms/step - loss: 5122.0571 - mse: 5122.0571 - val_loss: 4771.1436 - val_mse: 4771.1436\n",
      "Epoch 3/200\n",
      "10473/10473 [==============================] - 22s 2ms/step - loss: 4268.4668 - mse: 4268.4668 - val_loss: 3862.5818 - val_mse: 3862.5818\n",
      "Epoch 4/200\n",
      "10473/10473 [==============================] - 23s 2ms/step - loss: 3777.4529 - mse: 3777.4529 - val_loss: 3387.3674 - val_mse: 3387.3674\n",
      "Epoch 5/200\n",
      "10473/10473 [==============================] - 26s 2ms/step - loss: 3535.3628 - mse: 3535.3628 - val_loss: 3070.7947 - val_mse: 3070.7947\n",
      "Epoch 6/200\n",
      "10473/10473 [==============================] - 25s 2ms/step - loss: 3159.7310 - mse: 3159.7310 - val_loss: 3090.2222 - val_mse: 3090.2222\n",
      "Epoch 7/200\n",
      "10473/10473 [==============================] - 23s 2ms/step - loss: 2883.0898 - mse: 2883.0898 - val_loss: 2707.9194 - val_mse: 2707.9194\n",
      "Epoch 8/200\n",
      "10473/10473 [==============================] - 21s 2ms/step - loss: 2752.4065 - mse: 2752.4065 - val_loss: 2385.8269 - val_mse: 2385.8269\n",
      "Epoch 9/200\n",
      "10473/10473 [==============================] - 21s 2ms/step - loss: 2604.7595 - mse: 2604.7595 - val_loss: 2198.7280 - val_mse: 2198.7280\n",
      "Epoch 10/200\n",
      "10473/10473 [==============================] - 21s 2ms/step - loss: 2422.5679 - mse: 2422.5679 - val_loss: 2150.4011 - val_mse: 2150.4011\n",
      "Epoch 11/200\n",
      "10473/10473 [==============================] - 22s 2ms/step - loss: 2330.7234 - mse: 2330.7234 - val_loss: 2091.2861 - val_mse: 2091.2861\n",
      "Epoch 12/200\n",
      "10473/10473 [==============================] - 21s 2ms/step - loss: 2253.5491 - mse: 2253.5491 - val_loss: 2081.3132 - val_mse: 2081.3132\n",
      "Epoch 13/200\n",
      "10473/10473 [==============================] - 21s 2ms/step - loss: 2161.3284 - mse: 2161.3284 - val_loss: 2153.5520 - val_mse: 2153.5520\n",
      "Epoch 14/200\n",
      "10473/10473 [==============================] - 21s 2ms/step - loss: 1945.1594 - mse: 1945.1594 - val_loss: 1847.6292 - val_mse: 1847.6292\n",
      "Epoch 15/200\n",
      "10473/10473 [==============================] - 21s 2ms/step - loss: 1928.4796 - mse: 1928.4796 - val_loss: 1633.4691 - val_mse: 1633.4691\n",
      "Epoch 16/200\n",
      "10473/10473 [==============================] - 21s 2ms/step - loss: 1898.7401 - mse: 1898.7401 - val_loss: 1553.6691 - val_mse: 1553.6691\n",
      "Epoch 17/200\n",
      "10473/10473 [==============================] - 21s 2ms/step - loss: 1832.8326 - mse: 1832.8326 - val_loss: 2301.1768 - val_mse: 2301.1768\n",
      "Epoch 18/200\n",
      "10473/10473 [==============================] - 21s 2ms/step - loss: 1744.2124 - mse: 1744.2124 - val_loss: 1514.5267 - val_mse: 1514.5267\n",
      "Epoch 19/200\n",
      "10473/10473 [==============================] - 21s 2ms/step - loss: 1711.1279 - mse: 1711.1279 - val_loss: 1795.8344 - val_mse: 1795.8344\n",
      "Epoch 20/200\n",
      "10473/10473 [==============================] - 21s 2ms/step - loss: 1582.7543 - mse: 1582.7543 - val_loss: 1751.1210 - val_mse: 1751.1210\n",
      "Epoch 21/200\n",
      "10473/10473 [==============================] - 21s 2ms/step - loss: 1600.7441 - mse: 1600.7441 - val_loss: 1384.4105 - val_mse: 1384.4105\n",
      "Epoch 22/200\n",
      "10473/10473 [==============================] - 21s 2ms/step - loss: 1566.2126 - mse: 1566.2126 - val_loss: 1284.7151 - val_mse: 1284.7151\n",
      "Epoch 23/200\n",
      "10473/10473 [==============================] - 21s 2ms/step - loss: 1547.3733 - mse: 1547.3733 - val_loss: 1797.4900 - val_mse: 1797.4900\n",
      "Epoch 24/200\n",
      "10473/10473 [==============================] - 21s 2ms/step - loss: 1468.7028 - mse: 1468.7028 - val_loss: 1324.3536 - val_mse: 1324.3536\n",
      "Epoch 25/200\n",
      "10473/10473 [==============================] - 21s 2ms/step - loss: 1520.0825 - mse: 1520.0825 - val_loss: 1256.3989 - val_mse: 1256.3989\n",
      "Epoch 26/200\n",
      "10473/10473 [==============================] - 21s 2ms/step - loss: 1463.4062 - mse: 1463.4062 - val_loss: 1406.1472 - val_mse: 1406.1472\n",
      "Epoch 27/200\n",
      "10473/10473 [==============================] - 22s 2ms/step - loss: 1389.5189 - mse: 1389.5189 - val_loss: 1374.1110 - val_mse: 1374.1110\n",
      "Epoch 28/200\n",
      "10473/10473 [==============================] - 21s 2ms/step - loss: 1408.2377 - mse: 1408.2378 - val_loss: 1233.9695 - val_mse: 1233.9695\n",
      "Epoch 29/200\n",
      "10473/10473 [==============================] - 21s 2ms/step - loss: 1328.4409 - mse: 1328.4409 - val_loss: 1108.6407 - val_mse: 1108.6407\n",
      "Epoch 30/200\n",
      "10473/10473 [==============================] - 21s 2ms/step - loss: 1390.0042 - mse: 1390.0042 - val_loss: 1243.9243 - val_mse: 1243.9243\n",
      "Epoch 31/200\n",
      "10473/10473 [==============================] - 21s 2ms/step - loss: 1675.5848 - mse: 1675.5848 - val_loss: 1390.1830 - val_mse: 1390.1830\n",
      "Epoch 32/200\n",
      "10473/10473 [==============================] - 22s 2ms/step - loss: 1489.8031 - mse: 1489.8031 - val_loss: 1274.9636 - val_mse: 1274.9636\n",
      "Epoch 33/200\n",
      "10473/10473 [==============================] - 21s 2ms/step - loss: 1358.1630 - mse: 1358.1630 - val_loss: 1489.1040 - val_mse: 1489.1040\n"
     ]
    },
    {
     "data": {
      "text/plain": [
       "<keras.callbacks.History at 0x7f88bebecc40>"
      ]
     },
     "execution_count": 66,
     "metadata": {},
     "output_type": "execute_result"
    }
   ],
   "source": [
    "ann.fit(x=X_train, y=y_train, epochs=200, \n",
    "    batch_size=124,\n",
    "    validation_data=(X_test,y_test),\n",
    "    callbacks=EarlyStopping(monitor='val_loss',patience=0))"
   ]
  },
  {
   "cell_type": "code",
   "execution_count": 67,
   "metadata": {},
   "outputs": [
    {
     "data": {
      "text/plain": [
       "<AxesSubplot:>"
      ]
     },
     "execution_count": 67,
     "metadata": {},
     "output_type": "execute_result"
    },
    {
     "data": {
      "image/png": "[encoded data removed]",
      "text/plain": [
       "<Figure size 864x432 with 1 Axes>"
      ]
     },
     "metadata": {
      "needs_background": "light"
     },
     "output_type": "display_data"
    }
   ],
   "source": [
    "pd.DataFrame(ann.history.history).plot(figsize=(12,6))"
   ]
  },
  {
   "cell_type": "code",
   "execution_count": 69,
   "metadata": {
    "collapsed": false,
    "pycharm": {
     "name": "#%%\n"
    }
   },
   "outputs": [
    {
     "name": "stdout",
     "output_type": "stream",
     "text": [
      "19988/19988 [==============================] - 15s 728us/step\n",
      "MSE: 38.58890857691225\n",
      "R2: 0.99\n"
     ]
    }
   ],
   "source": [
    "pred_ann = ann.predict(X_test)\n",
    "\n",
    "#print regression score and mean squared error\n",
    "print(\"MSE:\", np.sqrt(mean_squared_error(y_test, pred_ann)))\n",
    "print(\"R2:\",r2_score(y_test, pred_ann))"
   ]
  },
  {
   "cell_type": "code",
   "execution_count": 70,
   "metadata": {},
   "outputs": [
    {
     "data": {
      "text/plain": [
       "count    97308.000000\n",
       "mean        37.146072\n",
       "std         42.251007\n",
       "min          4.000000\n",
       "25%         18.000000\n",
       "50%         28.000000\n",
       "75%         45.000000\n",
       "max       3300.000000\n",
       "Name: price, dtype: float64"
      ]
     },
     "execution_count": 70,
     "metadata": {},
     "output_type": "execute_result"
    }
   ],
   "source": [
    "df['price'].describe().T"
   ]
  }
 ],
 "metadata": {
  "interpreter": {
   "hash": "d55d083706a9c020f114bf1c514291b6a16f7df9c2c6a6da9b89d58e3afcb641"
  },
  "kernelspec": {
   "display_name": "Python 3.9.12 ('ML')",
   "language": "python",
   "name": "python3"
  },
  "language_info": {
   "codemirror_mode": {
    "name": "ipython",
    "version": 3
   },
   "file_extension": ".py",
   "mimetype": "text/x-python",
   "name": "python",
   "nbconvert_exporter": "python",
   "pygments_lexer": "ipython3",
   "version": "3.9.12"
  }
 },
 "nbformat": 4,
 "nbformat_minor": 0
}
