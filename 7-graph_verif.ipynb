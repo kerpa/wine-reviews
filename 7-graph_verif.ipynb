{
 "cells": [
  {
   "cell_type": "code",
   "execution_count": 23,
   "metadata": {},
   "outputs": [],
   "source": [
    "import networkx as nx\n",
    "import pandas as pd\n",
    "from scipy.sparse import *\n",
    "import numpy as np"
   ]
  },
  {
   "cell_type": "code",
   "execution_count": 24,
   "metadata": {},
   "outputs": [],
   "source": [
    "def graph_reader(path):\n",
    "    \"\"\"\n",
    "    Function to read the graph from the path.\n",
    "    :param path: Path to the edge list.\n",
    "    :return graph: NetworkX object returned.\n",
    "    \"\"\"\n",
    "    graph = nx.from_edgelist(pd.read_csv(path).values.tolist())\n",
    "    return graph\n",
    "\n",
    "def feature_reader(path):\n",
    "    \"\"\"\n",
    "    Reading the sparse feature matrix stored as csv from the disk.\n",
    "    :param path: Path to the csv file.\n",
    "    :return features: Dense matrix of features.\n",
    "    \"\"\"\n",
    "    features = pd.read_csv(path)\n",
    "    node_index = features[\"node_id\"].values.tolist()\n",
    "    feature_index = features[\"feature_id\"].values.tolist()\n",
    "    feature_values = features[\"value\"].values.tolist()\n",
    "    node_count = max(node_index)+1\n",
    "    feature_count = max(feature_index)+1\n",
    "    features = coo_matrix((feature_values, (node_index, feature_index)), shape=(node_count, feature_count)).toarray()\n",
    "    return features\n",
    "\n",
    "def target_reader(path):\n",
    "    \"\"\"\n",
    "    Reading the target vector from disk.\n",
    "    :param path: Path to the target.\n",
    "    :return target: Target vector.\n",
    "    \"\"\"\n",
    "    target = np.array(pd.read_csv(path)[\"target\"]).reshape(-1,1)\n",
    "    return target"
   ]
  },
  {
   "cell_type": "code",
   "execution_count": 25,
   "metadata": {},
   "outputs": [],
   "source": [
    "G = graph_reader('data/edges.csv')"
   ]
  },
  {
   "cell_type": "code",
   "execution_count": 26,
   "metadata": {},
   "outputs": [
    {
     "data": {
      "text/html": [
       "<div>\n",
       "<style scoped>\n",
       "    .dataframe tbody tr th:only-of-type {\n",
       "        vertical-align: middle;\n",
       "    }\n",
       "\n",
       "    .dataframe tbody tr th {\n",
       "        vertical-align: top;\n",
       "    }\n",
       "\n",
       "    .dataframe thead th {\n",
       "        text-align: right;\n",
       "    }\n",
       "</style>\n",
       "<table border=\"1\" class=\"dataframe\">\n",
       "  <thead>\n",
       "    <tr style=\"text-align: right;\">\n",
       "      <th></th>\n",
       "      <th>node_id</th>\n",
       "      <th>feature_id</th>\n",
       "      <th>value</th>\n",
       "    </tr>\n",
       "  </thead>\n",
       "  <tbody>\n",
       "    <tr>\n",
       "      <th>0</th>\n",
       "      <td>0</td>\n",
       "      <td>1</td>\n",
       "      <td>87</td>\n",
       "    </tr>\n",
       "    <tr>\n",
       "      <th>1</th>\n",
       "      <td>0</td>\n",
       "      <td>2</td>\n",
       "      <td>2011</td>\n",
       "    </tr>\n",
       "    <tr>\n",
       "      <th>2</th>\n",
       "      <td>0</td>\n",
       "      <td>3</td>\n",
       "      <td>0</td>\n",
       "    </tr>\n",
       "    <tr>\n",
       "      <th>3</th>\n",
       "      <td>1</td>\n",
       "      <td>1</td>\n",
       "      <td>87</td>\n",
       "    </tr>\n",
       "    <tr>\n",
       "      <th>4</th>\n",
       "      <td>1</td>\n",
       "      <td>2</td>\n",
       "      <td>2011</td>\n",
       "    </tr>\n",
       "    <tr>\n",
       "      <th>...</th>\n",
       "      <td>...</td>\n",
       "      <td>...</td>\n",
       "      <td>...</td>\n",
       "    </tr>\n",
       "    <tr>\n",
       "      <th>44233</th>\n",
       "      <td>14744</td>\n",
       "      <td>2</td>\n",
       "      <td>2013</td>\n",
       "    </tr>\n",
       "    <tr>\n",
       "      <th>44234</th>\n",
       "      <td>14744</td>\n",
       "      <td>3</td>\n",
       "      <td>0</td>\n",
       "    </tr>\n",
       "    <tr>\n",
       "      <th>44235</th>\n",
       "      <td>14745</td>\n",
       "      <td>1</td>\n",
       "      <td>90</td>\n",
       "    </tr>\n",
       "    <tr>\n",
       "      <th>44236</th>\n",
       "      <td>14745</td>\n",
       "      <td>2</td>\n",
       "      <td>2012</td>\n",
       "    </tr>\n",
       "    <tr>\n",
       "      <th>44237</th>\n",
       "      <td>14745</td>\n",
       "      <td>3</td>\n",
       "      <td>0</td>\n",
       "    </tr>\n",
       "  </tbody>\n",
       "</table>\n",
       "<p>44238 rows × 3 columns</p>\n",
       "</div>"
      ],
      "text/plain": [
       "       node_id  feature_id  value\n",
       "0            0           1     87\n",
       "1            0           2   2011\n",
       "2            0           3      0\n",
       "3            1           1     87\n",
       "4            1           2   2011\n",
       "...        ...         ...    ...\n",
       "44233    14744           2   2013\n",
       "44234    14744           3      0\n",
       "44235    14745           1     90\n",
       "44236    14745           2   2012\n",
       "44237    14745           3      0\n",
       "\n",
       "[44238 rows x 3 columns]"
      ]
     },
     "execution_count": 26,
     "metadata": {},
     "output_type": "execute_result"
    }
   ],
   "source": [
    "features = pd.read_csv('data/features.csv')\n",
    "features"
   ]
  },
  {
   "cell_type": "code",
   "execution_count": 27,
   "metadata": {},
   "outputs": [],
   "source": [
    "target = target_reader('data/target.csv')"
   ]
  },
  {
   "cell_type": "code",
   "execution_count": 28,
   "metadata": {},
   "outputs": [],
   "source": [
    "features = feature_reader('data/features.csv')"
   ]
  },
  {
   "cell_type": "markdown",
   "metadata": {},
   "source": [
    "## Simple message passing\n",
    "$ f(H^{i},A) = \\sigma(AH^{i}W^{i}) $"
   ]
  },
  {
   "cell_type": "code",
   "execution_count": 29,
   "metadata": {},
   "outputs": [
    {
     "data": {
      "text/plain": [
       "array([[0., 1., 1., ..., 0., 0., 0.],\n",
       "       [1., 0., 1., ..., 0., 0., 0.],\n",
       "       [1., 1., 0., ..., 0., 0., 0.],\n",
       "       ...,\n",
       "       [0., 0., 0., ..., 0., 1., 1.],\n",
       "       [0., 0., 0., ..., 1., 0., 1.],\n",
       "       [0., 0., 0., ..., 1., 1., 0.]])"
      ]
     },
     "execution_count": 29,
     "metadata": {},
     "output_type": "execute_result"
    }
   ],
   "source": [
    "A = nx.to_pandas_adjacency(G)\n",
    "A = A.to_numpy(copy=True)\n",
    "A"
   ]
  },
  {
   "cell_type": "code",
   "execution_count": 30,
   "metadata": {},
   "outputs": [
    {
     "data": {
      "text/plain": [
       "array([[  87, 2011,    0],\n",
       "       [  87, 2011,    1],\n",
       "       [  87, 2011,    2],\n",
       "       ...,\n",
       "       [  91, 2005,    4],\n",
       "       [  90, 2013,    0],\n",
       "       [  90, 2012,    0]])"
      ]
     },
     "execution_count": 30,
     "metadata": {},
     "output_type": "execute_result"
    }
   ],
   "source": [
    "X = features[:,1:]\n",
    "X"
   ]
  },
  {
   "cell_type": "code",
   "execution_count": 31,
   "metadata": {},
   "outputs": [
    {
     "data": {
      "text/plain": [
       "(14746, 3)"
      ]
     },
     "execution_count": 31,
     "metadata": {},
     "output_type": "execute_result"
    }
   ],
   "source": [
    "np.shape(X)"
   ]
  },
  {
   "cell_type": "code",
   "execution_count": 32,
   "metadata": {},
   "outputs": [
    {
     "data": {
      "text/plain": [
       "(14746, 14746)"
      ]
     },
     "execution_count": 32,
     "metadata": {},
     "output_type": "execute_result"
    }
   ],
   "source": [
    "I = np.matrix(np.eye(A.shape[0]))\n",
    "\n",
    "A_hat = A + I\n",
    "\n",
    "np.shape(A_hat)"
   ]
  },
  {
   "cell_type": "markdown",
   "metadata": {},
   "source": [
    "## Normalizing the Feature Representations\n",
    "\n",
    "$ f(X, A) = D^{-1}AX $\n",
    "then\n",
    "$ f(H^{i},A) = \\sigma(AH^{i}W^{i}) $"
   ]
  },
  {
   "cell_type": "code",
   "execution_count": 33,
   "metadata": {},
   "outputs": [],
   "source": [
    "D_hat = np.array(np.sum(A_hat, axis=0))[0]\n",
    "D_hat = np.matrix(np.diag(D_hat))\n",
    "\n",
    "D_hat_inv  = np.linalg.inv(D_hat)"
   ]
  },
  {
   "cell_type": "code",
   "execution_count": 34,
   "metadata": {},
   "outputs": [
    {
     "data": {
      "text/plain": [
       "(14746, 14746)"
      ]
     },
     "execution_count": 34,
     "metadata": {},
     "output_type": "execute_result"
    }
   ],
   "source": [
    "np.shape(D_hat_inv)"
   ]
  },
  {
   "cell_type": "code",
   "execution_count": 35,
   "metadata": {},
   "outputs": [],
   "source": [
    "#random assignmentof weights\n",
    "W =  np.matrix(\n",
    "    [[1, 0, 0],\n",
    "    [0, 1, 0],\n",
    "    [0, 0, 1]])"
   ]
  },
  {
   "cell_type": "code",
   "execution_count": 36,
   "metadata": {},
   "outputs": [],
   "source": [
    "#adding activation function\n",
    "def relu(x):\n",
    "    return (np.maximum(0, X))"
   ]
  },
  {
   "cell_type": "code",
   "execution_count": 37,
   "metadata": {},
   "outputs": [],
   "source": [
    "f = D_hat_inv * A_hat"
   ]
  },
  {
   "cell_type": "code",
   "execution_count": 38,
   "metadata": {},
   "outputs": [
    {
     "data": {
      "text/plain": [
       "matrix([[8.76428571e+01, 2.01264286e+03, 1.42857143e+00],\n",
       "        [8.78000000e+01, 2.01280000e+03, 1.33333333e+00],\n",
       "        [8.78571429e+01, 2.01278571e+03, 1.42857143e+00],\n",
       "        ...,\n",
       "        [9.08181818e+01, 2.01127273e+03, 2.00000000e+00],\n",
       "        [9.08181818e+01, 2.01127273e+03, 2.00000000e+00],\n",
       "        [9.08181818e+01, 2.01127273e+03, 2.00000000e+00]])"
      ]
     },
     "execution_count": 38,
     "metadata": {},
     "output_type": "execute_result"
    }
   ],
   "source": [
    "f = f * X * W\n",
    "f"
   ]
  },
  {
   "cell_type": "code",
   "execution_count": 39,
   "metadata": {},
   "outputs": [],
   "source": [
    "f = relu(f)"
   ]
  },
  {
   "cell_type": "code",
   "execution_count": 40,
   "metadata": {},
   "outputs": [
    {
     "data": {
      "text/plain": [
       "array([[  87, 2011,    0],\n",
       "       [  87, 2011,    1],\n",
       "       [  87, 2011,    2],\n",
       "       ...,\n",
       "       [  91, 2005,    4],\n",
       "       [  90, 2013,    0],\n",
       "       [  90, 2012,    0]])"
      ]
     },
     "execution_count": 40,
     "metadata": {},
     "output_type": "execute_result"
    }
   ],
   "source": [
    "f"
   ]
  }
 ],
 "metadata": {
  "interpreter": {
   "hash": "d55d083706a9c020f114bf1c514291b6a16f7df9c2c6a6da9b89d58e3afcb641"
  },
  "kernelspec": {
   "display_name": "Python 3.9.12 ('ML')",
   "language": "python",
   "name": "python3"
  },
  "language_info": {
   "codemirror_mode": {
    "name": "ipython",
    "version": 3
   },
   "file_extension": ".py",
   "mimetype": "text/x-python",
   "name": "python",
   "nbconvert_exporter": "python",
   "pygments_lexer": "ipython3",
   "version": "3.9.12"
  },
  "orig_nbformat": 4
 },
 "nbformat": 4,
 "nbformat_minor": 2
}
